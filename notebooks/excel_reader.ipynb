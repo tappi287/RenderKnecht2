{
 "cells": [
  {
   "cell_type": "code",
   "execution_count": 1,
   "metadata": {},
   "outputs": [
    {
     "name": "stdout",
     "output_type": "stream",
     "text": [
      "Free Image Libary: D:/Docs/py/RenderKnecht2/bin/freeimage-3.15.1-win64.dll\n",
      "Application language loaded from settings:  de\n",
      "KnechtSettings successfully loaded from file.\n",
      "Settings loaded from file.\n",
      "Logger requested by:  knecht_utils.py <module> WARNING\n",
      "Logger requested by:  knecht_excel.py <module> WARNING\n"
     ]
    }
   ],
   "source": [
    "import sys\n",
    "from pathlib import Path\n",
    "# Add parent path to python path for relative module import\n",
    "sys.path.append(Path('.').absolute().parent.as_posix())\n",
    "from modules.knecht_excel import ExcelReader"
   ]
  },
  {
   "cell_type": "code",
   "execution_count": 2,
   "metadata": {},
   "outputs": [
    {
     "name": "stdout",
     "output_type": "stream",
     "text": [
      "True\n"
     ]
    }
   ],
   "source": [
    "file = Path(r'I:\\Nextcloud\\py\\py_knecht\\RenderKnecht\\_TestDocs\\20171109_MBV_A3-Familie_AoA_MY2018.xlsx')\n",
    "# file = Path(r'E:\\nextcloud\\py_knecht\\RenderKnecht\\_TestDocs\\20171109_MBV_A3-Familie_AoA_MY2018.xlsx')\n",
    "xl = ExcelReader()\n",
    "result = xl.read_file(file)\n",
    "print(result)"
   ]
  },
  {
   "cell_type": "code",
   "execution_count": 3,
   "metadata": {},
   "outputs": [
    {
     "data": {
      "text/html": [
       "<div>\n",
       "<style scoped>\n",
       "    .dataframe tbody tr th:only-of-type {\n",
       "        vertical-align: middle;\n",
       "    }\n",
       "\n",
       "    .dataframe tbody tr th {\n",
       "        vertical-align: top;\n",
       "    }\n",
       "\n",
       "    .dataframe thead th {\n",
       "        text-align: right;\n",
       "    }\n",
       "</style>\n",
       "<table border=\"1\" class=\"dataframe\">\n",
       "  <thead>\n",
       "    <tr style=\"text-align: right;\">\n",
       "      <th></th>\n",
       "      <th>Markt</th>\n",
       "      <th>Markttext</th>\n",
       "      <th>Modelljahr</th>\n",
       "      <th>Klasse</th>\n",
       "      <th>Klassentext</th>\n",
       "      <th>Derivat</th>\n",
       "      <th>Modell</th>\n",
       "      <th>Version</th>\n",
       "      <th>Status</th>\n",
       "      <th>Modelltext</th>\n",
       "      <th>Einsatz</th>\n",
       "      <th>Entfall</th>\n",
       "      <th>Hubraum</th>\n",
       "      <th>Leistung</th>\n",
       "      <th>Getriebe</th>\n",
       "    </tr>\n",
       "  </thead>\n",
       "  <tbody>\n",
       "    <tr>\n",
       "      <th>0</th>\n",
       "      <td>X9A</td>\n",
       "      <td>USA</td>\n",
       "      <td>2018</td>\n",
       "      <td>8V</td>\n",
       "      <td>Audi A3 - AU370/0,AU370/1,AU371,AU375</td>\n",
       "      <td>A3 Limousine</td>\n",
       "      <td>8VMB8L</td>\n",
       "      <td>0</td>\n",
       "      <td>F</td>\n",
       "      <td>Audi A3 Limousine sport 2.0 TFSI quattro 162(2...</td>\n",
       "      <td>17.22.1</td>\n",
       "      <td>NaN</td>\n",
       "      <td>2.0 TFSI</td>\n",
       "      <td>162(220) kW(PS)</td>\n",
       "      <td>S tronic</td>\n",
       "    </tr>\n",
       "    <tr>\n",
       "      <th>1</th>\n",
       "      <td>X9A</td>\n",
       "      <td>USA</td>\n",
       "      <td>2018</td>\n",
       "      <td>8V</td>\n",
       "      <td>Audi A3 - AU370/0,AU370/1,AU371,AU375</td>\n",
       "      <td>RS 3</td>\n",
       "      <td>8VMRWY</td>\n",
       "      <td>0</td>\n",
       "      <td>F</td>\n",
       "      <td>Audi RS 3 Limousine 2.5 TFSI quattro 294(400) ...</td>\n",
       "      <td>17.22.1</td>\n",
       "      <td>NaN</td>\n",
       "      <td>2.5 TFSI</td>\n",
       "      <td>294(400) kW(PS)</td>\n",
       "      <td>S tronic</td>\n",
       "    </tr>\n",
       "    <tr>\n",
       "      <th>2</th>\n",
       "      <td>X9A</td>\n",
       "      <td>USA</td>\n",
       "      <td>2018</td>\n",
       "      <td>8V</td>\n",
       "      <td>Audi A3 - AU370/0,AU370/1,AU371,AU375</td>\n",
       "      <td>S3</td>\n",
       "      <td>8VMS1Y</td>\n",
       "      <td>0</td>\n",
       "      <td>F</td>\n",
       "      <td>Audi S3 Limousine 2.0 TFSI quattro 215(292) kW...</td>\n",
       "      <td>17.22.1</td>\n",
       "      <td>NaN</td>\n",
       "      <td>2.0 TFSI</td>\n",
       "      <td>215(292) kW(PS)</td>\n",
       "      <td>S tronic</td>\n",
       "    </tr>\n",
       "  </tbody>\n",
       "</table>\n",
       "</div>"
      ],
      "text/plain": [
       "  Markt Markttext  Modelljahr Klasse                            Klassentext  \\\n",
       "0   X9A       USA        2018     8V  Audi A3 - AU370/0,AU370/1,AU371,AU375   \n",
       "1   X9A       USA        2018     8V  Audi A3 - AU370/0,AU370/1,AU371,AU375   \n",
       "2   X9A       USA        2018     8V  Audi A3 - AU370/0,AU370/1,AU371,AU375   \n",
       "\n",
       "        Derivat  Modell  Version Status  \\\n",
       "0  A3 Limousine  8VMB8L        0      F   \n",
       "1          RS 3  8VMRWY        0      F   \n",
       "2            S3  8VMS1Y        0      F   \n",
       "\n",
       "                                          Modelltext  Einsatz  Entfall  \\\n",
       "0  Audi A3 Limousine sport 2.0 TFSI quattro 162(2...  17.22.1      NaN   \n",
       "1  Audi RS 3 Limousine 2.5 TFSI quattro 294(400) ...  17.22.1      NaN   \n",
       "2  Audi S3 Limousine 2.0 TFSI quattro 215(292) kW...  17.22.1      NaN   \n",
       "\n",
       "    Hubraum         Leistung  Getriebe  \n",
       "0  2.0 TFSI  162(220) kW(PS)  S tronic  \n",
       "1  2.5 TFSI  294(400) kW(PS)  S tronic  \n",
       "2  2.0 TFSI  215(292) kW(PS)  S tronic  "
      ]
     },
     "execution_count": 3,
     "metadata": {},
     "output_type": "execute_result"
    }
   ],
   "source": [
    "xl.data.models.head(10)"
   ]
  },
  {
   "cell_type": "code",
   "execution_count": 4,
   "metadata": {},
   "outputs": [
    {
     "name": "stdout",
     "output_type": "stream",
     "text": [
      "8VMB8L\n",
      "8VMRWY\n",
      "8VMS1Y\n"
     ]
    }
   ],
   "source": [
    "# Extract available models\n",
    "models = xl.data.models[xl.data.models.columns[6]]\n",
    "for model in models:\n",
    "    print(model)"
   ]
  },
  {
   "cell_type": "code",
   "execution_count": 16,
   "metadata": {},
   "outputs": [
    {
     "name": "stdout",
     "output_type": "stream",
     "text": [
      "8VMB8L S tronic\n",
      "8VMRWY S tronic\n",
      "8VMS1Y S tronic\n"
     ]
    }
   ],
   "source": [
    "# Convert to Knecht Data\n",
    "from modules.knecht_excel_data import ExcelDataToKnechtData\n",
    "converter = ExcelDataToKnechtData(xl.data)\n",
    "data = converter.convert()\n",
    "\n",
    "for model in data.models:\n",
    "    print(model.model, model.gearbox)"
   ]
  },
  {
   "cell_type": "code",
   "execution_count": 6,
   "metadata": {},
   "outputs": [
    {
     "name": "stdout",
     "output_type": "stream",
     "text": [
      "8VMB8L PNK Navigationssystem Plus incl. MMI für NAR\n",
      "\t EL3 P\n",
      "\t I8L P\n",
      "\t 7UG P\n",
      "\t 9S8 P\n",
      "\t 9VS P\n",
      "8VMB8L PX2 LED-Scheinwerfer\n",
      "\t 4GH L\n",
      "\t 8IT P\n",
      "\t 8N6 L\n",
      "\t 8Q3 P\n",
      "\t 8SP P\n",
      "\t 8WM P\n",
      "8VMB8L WPD Premium package for USA\n",
      "\t I8S P\n",
      "\t QQ4 P\n",
      "\t UI2 P\n",
      "\t 4I3 P\n",
      "\t 7UH P\n",
      "8VMB8L WPS Premium Plus für USA\n",
      "\t C2R E\n",
      "\t I8S P\n",
      "\t QQ4 P\n",
      "\t UI2 P\n",
      "\t VT5 P\n",
      "\t 0NB P\n",
      "\t 2JD P\n",
      "\t 3L5 P\n",
      "\t 4I3 P\n",
      "\t 4L7 P\n",
      "\t 4ZB P\n",
      "\t 5TD P\n",
      "\t 7P1 P\n",
      "\t 7UH P\n",
      "\t 7X2 P\n",
      "\t 7Y1 P\n",
      "8VMB8L WPT Prestige für USA\n",
      "\t C2R E\n",
      "\t EL3 P\n",
      "\t I8L P\n",
      "\t QE5 P\n",
      "\t QQ4 P\n",
      "\t UI2 P\n",
      "\t VT5 P\n",
      "\t 0NB P\n",
      "\t 2JD P\n",
      "\t 3L5 P\n",
      "\t 4I3 P\n",
      "\t 4L7 P\n",
      "\t 4ZB P\n",
      "\t 5TD P\n",
      "\t 6K4 P\n",
      "\t 6XK P\n",
      "\t 7P1 P\n",
      "\t 7UG P\n",
      "\t 7X2 P\n",
      "\t 7Y5 P\n",
      "\t 8G1 P\n",
      "\t 8IT P\n",
      "\t 8Q3 P\n",
      "\t 8SP P\n",
      "\t 8T3 P\n",
      "\t 8WM P\n",
      "\t 9S8 P\n",
      "\t 9VS P\n",
      "8VMB8L WQB S line Sportpaket USA\n",
      "\t Q4H P\n",
      "\t 2H6 P\n",
      "\t 2PK P\n",
      "8VMB8L WQN S line style\n",
      "\t C8X E\n",
      "\t E3T P\n",
      "\t 0UH P\n"
     ]
    }
   ],
   "source": [
    "for pkg in data.models[0].iterate_packages():\n",
    "    print(data.models[0].model, pkg.name, pkg.desc)\n",
    "    for pr in pkg.iterate_children():\n",
    "        print('\\t', pr.name, pr.value)"
   ]
  },
  {
   "cell_type": "code",
   "execution_count": 6,
   "metadata": {},
   "outputs": [
    {
     "data": {
      "text/plain": [
       "[0, 6]"
      ]
     },
     "execution_count": 6,
     "metadata": {},
     "output_type": "execute_result"
    }
   ],
   "source": [
    "# Get Column locations by name\n",
    "[xl.data.models.columns.get_loc(c) for c in ['Markt', 'Modell'] if c in xl.data.models.columns]"
   ]
  },
  {
   "cell_type": "code",
   "execution_count": 7,
   "metadata": {},
   "outputs": [
    {
     "name": "stdout",
     "output_type": "stream",
     "text": [
      "Aktionsausführungen\n"
     ]
    }
   ],
   "source": [
    "# Get PR-Family + Description\n",
    "pr_family_column = xl.data.pr_options.columns[0]\n",
    "xl.data.pr_options[pr_family_column].unique()\n",
    "pr_row = xl.data.pr_options.loc[xl.data.pr_options[pr_family_column]=='AAU']\n",
    "desc = pr_row['PR-FamilienText'].unique()[0]\n",
    "print(desc)"
   ]
  },
  {
   "cell_type": "code",
   "execution_count": 43,
   "metadata": {},
   "outputs": [
    {
     "name": "stdout",
     "output_type": "stream",
     "text": [
      "PNK Navigationssystem Plus incl. MMI für NAR\n",
      "\t EL3 Audi connect\n",
      "\t I8L Radio Premium (Gen2)\n",
      "\t 7UG MMI Navigation plus mit MMI touch\n",
      "\t 9S8 Audi virtual cockpit\n",
      "\t 9VS Bang & Olufsen Sound System\n",
      "PX2 LED-Scheinwerfer\n",
      "\t 4GH Akustikfrontscheibe\n",
      "\t 8IT LED-Scheinwerfer inkl. dynamischem Blinklicht Heck\n",
      "\t 8N6 Licht-/Regensensor\n",
      "\t 8Q3 Leuchtweitenregulierung\n",
      "\t 8SP LED-Heckleuchten mit dynamischem Blinker\n",
      "\t 8WM Abbiege und Allwetterlicht\n",
      "WPD Premium package for USA\n",
      "\t I8S Radio High Scale (Gen2)\n",
      "\t QQ4 Lichtpaket\n",
      "\t UI2 Audi smartphone interface\n",
      "\t 4I3 Komfortschlüssel\n",
      "\t 7UH Connectivity-Paket\n",
      "WPS Premium Plus für USA\n",
      "\t C2R Aluminium Gussräder im 5-Doppelspeichen- Design, kontrastgrau, teilpoliert 8J x 18, Reifen 225/40 R18\n",
      "\t I8S Radio High Scale (Gen2)\n",
      "\t QQ4 Lichtpaket\n",
      "\t UI2 Audi smartphone interface\n",
      "\t VT5 Einstiegsleisten mit Aluminiumeinlage\n",
      "\t 0NB S-Line Schriftzug, aussen\n",
      "\t 2JD Stoßfänger\n",
      "\t 3L5 Vordersitze elektrisch einstellbar\n",
      "\t 4I3 Komfortschlüssel\n",
      "\t 4L7 Innenspiegel automatisch abblendend mit Licht-/Regensensor und digitaler Kompassanzeige\n",
      "\t 4ZB Glanzpaket\n",
      "\t 5TD Dekoreinlagen Aluminium Mistral\n",
      "\t 7P1 4-Wege-Lendenwirbelstütze für die Vordersitze\n",
      "\t 7UH Connectivity-Paket\n",
      "\t 7X2 Einparkhilfe plus mit selektiver Anzeige\n",
      "\t 7Y1 Audi side assist\n",
      "WPT Prestige für USA\n",
      "\t C2R Aluminium Gussräder im 5-Doppelspeichen- Design, kontrastgrau, teilpoliert 8J x 18, Reifen 225/40 R18\n",
      "\t EL3 Audi connect\n",
      "\t I8L Radio Premium (Gen2)\n",
      "\t QE5 Ablage-/ Gepäckraumpaket mit erweitertem 12 V- und USB- Buchsen - Angebot\n",
      "\t QQ4 Lichtpaket\n",
      "\t UI2 Audi smartphone interface\n",
      "\t VT5 Einstiegsleisten mit Aluminiumeinlage\n",
      "\t 0NB S-Line Schriftzug, aussen\n",
      "\t 2JD Stoßfänger\n",
      "\t 3L5 Vordersitze elektrisch einstellbar\n",
      "\t 4I3 Komfortschlüssel\n",
      "\t 4L7 Innenspiegel automatisch abblendend mit Licht-/Regensensor und digitaler Kompassanzeige\n",
      "\t 4ZB Glanzpaket\n",
      "\t 5TD Dekoreinlagen Aluminium Mistral\n",
      "\t 6K4 adaptive cruise control (Stop&Go) inkl. pre sense front\n",
      "\t 6XK Außenspiegel el. einstell-,beheiz- u. anklappbar, beidseitig autom. abblendend inkl. Bordsteinautom. f. Beifahrerseite\n",
      "\t 7P1 4-Wege-Lendenwirbelstütze für die Vordersitze\n",
      "\t 7UG MMI Navigation plus mit MMI touch\n",
      "\t 7X2 Einparkhilfe plus mit selektiver Anzeige\n",
      "\t 7Y5 Audi active lane assist und Audi side assist\n",
      "\t 8G1 Fernlichtassistent\n",
      "\t 8IT LED-Scheinwerfer inkl. dynamischem Blinklicht Heck\n",
      "\t 8Q3 Leuchtweitenregulierung\n",
      "\t 8SP LED-Heckleuchten mit dynamischem Blinker\n",
      "\t 8T3 Automatische Distanzregelung\n",
      "\t 8WM Abbiege und Allwetterlicht\n",
      "\t 9S8 Audi virtual cockpit\n",
      "\t 9VS Bang & Olufsen Sound System\n",
      "WQB S line Sportpaket USA\n",
      "\t Q4H Sportsitze vorn\n",
      "\t 2H6 Audi drive select\n",
      "\t 2PK Sportkontur-Lederlenkrad im 3-Speichen-Design mit Multifunktion plus und Schaltwippen unten abgeflacht\n",
      "WQN S line style\n",
      "\t C8X Leichtmetallräder 8J x 19\n",
      "\t E3T \"Life\"\n",
      "\t 0UH Besondere Farbausstattung\n"
     ]
    }
   ],
   "source": [
    "model = '8VMB8L'\n",
    "pkg_col = xl.data.packages.columns[xl.data.map.Packages.ColumnIdx.package]\n",
    "pkg_text_col = xl.data.packages.columns[xl.data.map.Packages.ColumnIdx.package_text]\n",
    "pr_col = xl.data.packages.columns[xl.data.map.Packages.ColumnIdx.pr]\n",
    "pr_text_col = xl.data.packages.columns[xl.data.map.Packages.ColumnIdx.pr_text]\n",
    "pkg_rows = xl.data.packages.loc[~xl.data.packages[model].isin(['-'])]\n",
    "\n",
    "for idx, (pkg, pkg_text) in enumerate(zip(pkg_rows[pkg_col].unique(), pkg_rows[pkg_text_col].unique())):\n",
    "    print(pkg, pkg_text)\n",
    "    pkg_content = pkg_rows.loc[pkg_rows[pkg_col] == pkg]\n",
    "\n",
    "    for pr_idx, (pr, pr_text) in enumerate(zip(pkg_content[pr_col], pkg_content[pr_text_col])):\n",
    "        print('\\t', pr, pr_text)"
   ]
  },
  {
   "cell_type": "code",
   "execution_count": null,
   "metadata": {},
   "outputs": [],
   "source": []
  }
 ],
 "metadata": {
  "kernelspec": {
   "display_name": "Python 3",
   "language": "python",
   "name": "python3"
  },
  "language_info": {
   "codemirror_mode": {
    "name": "ipython",
    "version": 3
   },
   "file_extension": ".py",
   "mimetype": "text/x-python",
   "name": "python",
   "nbconvert_exporter": "python",
   "pygments_lexer": "ipython3",
   "version": "3.7.1"
  }
 },
 "nbformat": 4,
 "nbformat_minor": 2
}
