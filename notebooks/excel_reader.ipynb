{
 "cells": [
  {
   "cell_type": "code",
   "execution_count": 1,
   "metadata": {},
   "outputs": [
    {
     "name": "stdout",
     "output_type": "stream",
     "text": [
      "Free Image Libary: D:/Docs/py/RenderKnecht2/bin/freeimage-3.15.1-win64.dll\n",
      "Application language loaded from settings:  de\n",
      "KnechtSettings successfully loaded from file.\n",
      "Settings loaded from file.\n",
      "Logger requested by:  knecht_utils.py <module> WARNING\n",
      "Logger requested by:  knecht_excel.py <module> WARNING\n"
     ]
    }
   ],
   "source": [
    "import sys\n",
    "from pathlib import Path\n",
    "# Add parent path to python path for relative module import\n",
    "sys.path.append(Path('.').absolute().parent.as_posix())\n",
    "from modules.knecht_excel import ExcelReader"
   ]
  },
  {
   "cell_type": "code",
   "execution_count": 2,
   "metadata": {},
   "outputs": [
    {
     "name": "stdout",
     "output_type": "stream",
     "text": [
      "True\n"
     ]
    }
   ],
   "source": [
    "file = Path(r'I:/Nextcloud/py/py_knecht/RenderKnecht/_TestDocs/20180301_X7X_Odessa_VPlus.xlsx')\n",
    "# file = Path(r'E:\\nextcloud\\py_knecht\\RenderKnecht\\_TestDocs\\20171109_MBV_A3-Familie_AoA_MY2018.xlsx')\n",
    "xl = ExcelReader()\n",
    "result = xl.read_file(file)\n",
    "print(result)"
   ]
  },
  {
   "cell_type": "code",
   "execution_count": 3,
   "metadata": {},
   "outputs": [
    {
     "data": {
      "text/html": [
       "<div>\n",
       "<style scoped>\n",
       "    .dataframe tbody tr th:only-of-type {\n",
       "        vertical-align: middle;\n",
       "    }\n",
       "\n",
       "    .dataframe tbody tr th {\n",
       "        vertical-align: top;\n",
       "    }\n",
       "\n",
       "    .dataframe thead th {\n",
       "        text-align: right;\n",
       "    }\n",
       "</style>\n",
       "<table border=\"1\" class=\"dataframe\">\n",
       "  <thead>\n",
       "    <tr style=\"text-align: right;\">\n",
       "      <th></th>\n",
       "      <th>Markt</th>\n",
       "      <th>Markttext</th>\n",
       "      <th>Modelljahr</th>\n",
       "      <th>Klasse</th>\n",
       "      <th>Klassentext</th>\n",
       "      <th>Derivat</th>\n",
       "      <th>Modell</th>\n",
       "      <th>Version</th>\n",
       "      <th>Status</th>\n",
       "      <th>Modelltext</th>\n",
       "      <th>Einsatz</th>\n",
       "      <th>Entfall</th>\n",
       "      <th>Hubraum</th>\n",
       "      <th>Leistung</th>\n",
       "      <th>Getriebe</th>\n",
       "    </tr>\n",
       "  </thead>\n",
       "  <tbody>\n",
       "    <tr>\n",
       "      <th>0</th>\n",
       "      <td>X7X</td>\n",
       "      <td>Welt-Programm</td>\n",
       "      <td>2019</td>\n",
       "      <td>4M</td>\n",
       "      <td>Audi Q7 / Q8 - AU536</td>\n",
       "      <td>Q8</td>\n",
       "      <td>4MN0J1</td>\n",
       "      <td>0</td>\n",
       "      <td>F</td>\n",
       "      <td>Audi Q8 45 TDI quattro 183(249) kW(PS) tiptronic</td>\n",
       "      <td>18.08.1</td>\n",
       "      <td>NaN</td>\n",
       "      <td>NaN</td>\n",
       "      <td>183(249) kW(PS)</td>\n",
       "      <td>tiptronic</td>\n",
       "    </tr>\n",
       "    <tr>\n",
       "      <th>1</th>\n",
       "      <td>X7X</td>\n",
       "      <td>Welt-Programm</td>\n",
       "      <td>2019</td>\n",
       "      <td>4M</td>\n",
       "      <td>Audi Q7 / Q8 - AU536</td>\n",
       "      <td>Q8</td>\n",
       "      <td>4MN0L2</td>\n",
       "      <td>0</td>\n",
       "      <td>F</td>\n",
       "      <td>Audi Q8 50 TDI quattro 210(286) kW(PS) tiptronic</td>\n",
       "      <td>18.08.1</td>\n",
       "      <td>NaN</td>\n",
       "      <td>NaN</td>\n",
       "      <td>210(286) kW(PS)</td>\n",
       "      <td>tiptronic</td>\n",
       "    </tr>\n",
       "    <tr>\n",
       "      <th>2</th>\n",
       "      <td>X7X</td>\n",
       "      <td>Welt-Programm</td>\n",
       "      <td>2019</td>\n",
       "      <td>4M</td>\n",
       "      <td>Audi Q7 / Q8 - AU536</td>\n",
       "      <td>Q8</td>\n",
       "      <td>4MN0M1</td>\n",
       "      <td>0</td>\n",
       "      <td>F</td>\n",
       "      <td>Audi Q8 45 TFSI quattro 180(245) kW(PS) tiptronic</td>\n",
       "      <td>18.41.1</td>\n",
       "      <td>NaN</td>\n",
       "      <td>NaN</td>\n",
       "      <td>180(245) kW(PS)</td>\n",
       "      <td>tiptronic</td>\n",
       "    </tr>\n",
       "    <tr>\n",
       "      <th>3</th>\n",
       "      <td>X7X</td>\n",
       "      <td>Welt-Programm</td>\n",
       "      <td>2019</td>\n",
       "      <td>4M</td>\n",
       "      <td>Audi Q7 / Q8 - AU536</td>\n",
       "      <td>Q8</td>\n",
       "      <td>4MN0X2</td>\n",
       "      <td>0</td>\n",
       "      <td>F</td>\n",
       "      <td>Audi Q8 55 TFSI quattro 250(340) kW(PS) tiptronic</td>\n",
       "      <td>18.08.1</td>\n",
       "      <td>NaN</td>\n",
       "      <td>NaN</td>\n",
       "      <td>250(340) kW(PS)</td>\n",
       "      <td>tiptronic</td>\n",
       "    </tr>\n",
       "  </tbody>\n",
       "</table>\n",
       "</div>"
      ],
      "text/plain": [
       "  Markt      Markttext  Modelljahr Klasse           Klassentext Derivat  \\\n",
       "0   X7X  Welt-Programm        2019     4M  Audi Q7 / Q8 - AU536      Q8   \n",
       "1   X7X  Welt-Programm        2019     4M  Audi Q7 / Q8 - AU536      Q8   \n",
       "2   X7X  Welt-Programm        2019     4M  Audi Q7 / Q8 - AU536      Q8   \n",
       "3   X7X  Welt-Programm        2019     4M  Audi Q7 / Q8 - AU536      Q8   \n",
       "\n",
       "   Modell  Version Status                                         Modelltext  \\\n",
       "0  4MN0J1        0      F   Audi Q8 45 TDI quattro 183(249) kW(PS) tiptronic   \n",
       "1  4MN0L2        0      F   Audi Q8 50 TDI quattro 210(286) kW(PS) tiptronic   \n",
       "2  4MN0M1        0      F  Audi Q8 45 TFSI quattro 180(245) kW(PS) tiptronic   \n",
       "3  4MN0X2        0      F  Audi Q8 55 TFSI quattro 250(340) kW(PS) tiptronic   \n",
       "\n",
       "   Einsatz  Entfall  Hubraum         Leistung   Getriebe  \n",
       "0  18.08.1      NaN      NaN  183(249) kW(PS)  tiptronic  \n",
       "1  18.08.1      NaN      NaN  210(286) kW(PS)  tiptronic  \n",
       "2  18.41.1      NaN      NaN  180(245) kW(PS)  tiptronic  \n",
       "3  18.08.1      NaN      NaN  250(340) kW(PS)  tiptronic  "
      ]
     },
     "execution_count": 3,
     "metadata": {},
     "output_type": "execute_result"
    }
   ],
   "source": [
    "xl.data.models.head(10)"
   ]
  },
  {
   "cell_type": "code",
   "execution_count": 4,
   "metadata": {},
   "outputs": [
    {
     "name": "stdout",
     "output_type": "stream",
     "text": [
      "4MN0J1\n",
      "4MN0L2\n",
      "4MN0M1\n",
      "4MN0X2\n"
     ]
    }
   ],
   "source": [
    "# Extract available models\n",
    "models = xl.data.models[xl.data.models.columns[6]]\n",
    "for model in models:\n",
    "    print(model)"
   ]
  },
  {
   "cell_type": "code",
   "execution_count": 5,
   "metadata": {},
   "outputs": [
    {
     "name": "stdout",
     "output_type": "stream",
     "text": [
      "Logger requested by:  knecht_excel_data.py <module> WARNING\n",
      "4MN0J1 tiptronic\n",
      "4MN0L2 tiptronic\n",
      "4MN0M1 tiptronic\n",
      "4MN0X2 tiptronic\n"
     ]
    }
   ],
   "source": [
    "# Convert to Knecht Data\n",
    "from modules.knecht_excel_data import ExcelDataToKnechtData\n",
    "converter = ExcelDataToKnechtData(xl.data)\n",
    "data = converter.convert()\n",
    "\n",
    "for model in data.models:\n",
    "    print(model.model, model.gearbox)"
   ]
  },
  {
   "cell_type": "code",
   "execution_count": 8,
   "metadata": {},
   "outputs": [
    {
     "name": "stdout",
     "output_type": "stream",
     "text": [
      "4MN0J1 PCD Assistenzpaket Parken = Umgebungskameras o. Bordsteinwarnung o.Manövrierassistent\n",
      "\t KA6 P KSU Kamerasysteme/Umfeldsensorik\n",
      "\t 9X0 P EPH Einparkhilfe\n",
      "4MN0J1 PCF Audi AI Assistenzpaket Parken\n",
      "\t FT1 P None None\n",
      "\t KA6 P KSU Kamerasysteme/Umfeldsensorik\n",
      "\t 7X5 E EPH Einparkhilfe\n",
      "4MN0J1 PCH Spurwechselwarnung inkl. Audi pre sense rear, Ausstiegswarnung und Querverkehras sistent hinten\n",
      "\t 7W3 P None None\n",
      "\t 7Y1 P SPU Spurwechsel/Spurhalteassistent\n",
      "4MN0J1 PCL Audi AI Assistenzpaket plus\n",
      "\t FT2 P None None\n",
      "\t JX1 P None None\n",
      "\t KA6 P KSU Kamerasysteme/Umfeldsensorik\n",
      "\t QK1 E KAS Kamera/Distanzsensor\n",
      "\t 7W3 P None None\n",
      "\t 7X5 E EPH Einparkhilfe\n",
      "\t 7Y1 P SPU Spurwechsel/Spurhalteassistent\n",
      "\t 8T8 E GRA Geschwindigkeitsregelanlage\n",
      "4MN0J1 PCM Assistenzpaket Stadt\n",
      "\t JX1 P None None\n",
      "\t QK1 E KAS Kamera/Distanzsensor\n",
      "\t 7W3 P None None\n",
      "\t 7Y1 P SPU Spurwechsel/Spurhalteassistent\n",
      "4MN0J1 PCN Assistenzpaket Tour\n",
      "\t QK1 E KAS Kamera/Distanzsensor\n",
      "\t 8T8 E GRA Geschwindigkeitsregelanlage\n",
      "4MN0J1 PGC Komfortschlüssel mit sensorgesteuerter Gepäckraumentriegelung inklusive elektrischer Laderaumabdeckung\n",
      "\t 2P2 P None None\n",
      "\t 3U7 P None None\n",
      "\t 4I3 P TKV Tür- und Klappenverriegelung\n",
      "4MN0J1 PG2 Diebstahlwarnanlage\n",
      "\t 4I6 P TKV Tür- und Klappenverriegelung\n",
      "\t 7AL P None None\n",
      "4MN0J1 PG3 Komfortschlüssel in Verbindung mit Diebstahlwarnanlage mit Abschleppschutz\n",
      "\t 2P2 P None None\n",
      "\t 3U7 P None None\n",
      "\t 4F2 P TKV Tür- und Klappenverriegelung\n",
      "\t 7AL P None None\n",
      "4MN0J1 PIH Kindersitzbefestigung ISOFIX für den Beifahrersitz\n",
      "\t 3G4 P KSI Kindersitzverankerung vorn\n",
      "\t 4UF P AIB Airbag\n",
      "4MN0J1 PKC elektrische Laderaumabdeckung\n",
      "\t 2P2 P None None\n",
      "\t 3U7 P None None\n",
      "4MN0J1 PK6 Standheizung/-lüftung\n",
      "\t 1Z6 E None None\n",
      "\t 7E0 E None None\n",
      "\t 9M9 P None None\n",
      "4MN0J1 PL2 Dachhimmel in Alcantara schwarz\n",
      "\t 5XL E SON Sonnenblenden\n",
      "\t 6NS P HIM Formteilhimmel\n",
      "4MN0J1 PL6 Dachhimmel in Alcantara\n",
      "\t 5XL E SON Sonnenblenden\n",
      "\t 6NN P HIM Formteilhimmel\n",
      "4MN0J1 PNQ MMI Navigation plus mit MMI touch®\n",
      "\t EL3 P None None\n",
      "\t I8T P RAO Radios\n",
      "\t 7UG P NAV Navigationsgerät\n",
      "4MN0J1 PNR MMI® Navigation Plus für Export\n",
      "\t I8T P RAO Radios\n",
      "\t 7UG P NAV Navigationsgerät\n",
      "\t 9S8 E MFA Multifunktionsanzeige / Bordcomputer\n",
      "4MN0J1 PQD S line Exterieurpaket\n",
      "\t VT5 P None None\n",
      "\t 0NB P SZU Schriftzugsatz\n",
      "\t 04H P AGS Angebotsstruktur\n",
      "\t 2K7 P SFS Stoßfängersysteme\n",
      "\t 2P2 P None None\n",
      "\t 8X1 E SWR Scheinwerferreinigungsanlage\n",
      "4MN0J1 PS8 Individualkontursitze vorn\n",
      "\t Q2J P VOS Vordersitze\n",
      "\t 5ZC E KOV Kopfstützen\n",
      "4MN0J1 PV1 Vordersitze elektrisch einstellbar\n",
      "\t 3L5 P SIE Sitzeinstellung\n",
      "\t 7P1 P None None\n",
      "4MN0J1 PV3 Vordersitze elektrisch einstellbar inklusive Memory-Funktion für den Fahrersitz\n",
      "\t 3L4 P SIE Sitzeinstellung\n",
      "\t 7P1 P None None\n",
      "4MN0J1 PV6 Vordersitze elektrisch einstellbar inklusive Memory-Funktion für beide Vordersitze\n",
      "\t 3PN P SIE Sitzeinstellung\n",
      "\t 7P1 P None None\n",
      "4MN0J1 PXC HD Matrix LED-Scheinwerfer\n",
      "\t QK1 E KAS Kamera/Distanzsensor\n",
      "\t 8G5 P LIA Lichtassistenzsysteme\n",
      "\t 8SQ P SBR SBBR-Leuchten\n",
      "\t 8X1 E SWR Scheinwerferreinigungsanlage\n",
      "4MN0J1 WK8 Audi Design Selection\n",
      "\t QQ2 E LCP Lichtpaket (Beleuchtungen)\n",
      "\t VT3 E None None\n",
      "\t 2P2 P None None\n",
      "4MN0J1 WQS S line Sportpaket\n",
      "\t Q1D E VOS Vordersitze\n",
      "\t VF1 P FHW Fußhebelwerk\n",
      "\t VT5 P None None\n",
      "\t 0NB P SZU Schriftzugsatz\n",
      "\t 04H P AGS Angebotsstruktur\n",
      "\t 2MA E DAE Dämpfung / Federung Fahrwerk\n",
      "\t 2P2 P None None\n",
      "\t 5TG E EIH Einlagen\n",
      "\t 6F7 P DFO Dekorfolien/Embleme\n",
      "\t 6NQ E HIM Formteilhimmel\n",
      "\t 7P1 P None None\n",
      "4MN0J1 WQV S line Sportpaket (für Export)\n",
      "\t Q1D E VOS Vordersitze\n",
      "\t VF1 P FHW Fußhebelwerk\n",
      "\t VT5 P None None\n",
      "\t 0NB P SZU Schriftzugsatz\n",
      "\t 04H P AGS Angebotsstruktur\n",
      "\t 2P2 P None None\n",
      "\t 5TG E EIH Einlagen\n",
      "\t 6F7 P DFO Dekorfolien/Embleme\n",
      "\t 6NQ E HIM Formteilhimmel\n",
      "\t 7P1 P None None\n"
     ]
    }
   ],
   "source": [
    "for pkg in data.models[0].iterate_packages():\n",
    "    print(data.models[0].model, pkg.name, pkg.desc)\n",
    "    for pr in pkg.iterate_children():\n",
    "        print('\\t', pr.name, pr.value, pr.family, pr.family_desc)"
   ]
  },
  {
   "cell_type": "code",
   "execution_count": 6,
   "metadata": {},
   "outputs": [
    {
     "data": {
      "text/plain": [
       "[0, 6]"
      ]
     },
     "execution_count": 6,
     "metadata": {},
     "output_type": "execute_result"
    }
   ],
   "source": [
    "# Get Column locations by name\n",
    "[xl.data.models.columns.get_loc(c) for c in ['Markt', 'Modell'] if c in xl.data.models.columns]"
   ]
  },
  {
   "cell_type": "code",
   "execution_count": 7,
   "metadata": {},
   "outputs": [
    {
     "name": "stdout",
     "output_type": "stream",
     "text": [
      "Aktionsausführungen\n"
     ]
    }
   ],
   "source": [
    "# Get PR-Family + Description\n",
    "pr_family_column = xl.data.pr_options.columns[0]\n",
    "xl.data.pr_options[pr_family_column].unique()\n",
    "pr_row = xl.data.pr_options.loc[xl.data.pr_options[pr_family_column]=='AAU']\n",
    "desc = pr_row['PR-FamilienText'].unique()[0]\n",
    "print(desc)"
   ]
  },
  {
   "cell_type": "code",
   "execution_count": 43,
   "metadata": {},
   "outputs": [
    {
     "name": "stdout",
     "output_type": "stream",
     "text": [
      "PNK Navigationssystem Plus incl. MMI für NAR\n",
      "\t EL3 Audi connect\n",
      "\t I8L Radio Premium (Gen2)\n",
      "\t 7UG MMI Navigation plus mit MMI touch\n",
      "\t 9S8 Audi virtual cockpit\n",
      "\t 9VS Bang & Olufsen Sound System\n",
      "PX2 LED-Scheinwerfer\n",
      "\t 4GH Akustikfrontscheibe\n",
      "\t 8IT LED-Scheinwerfer inkl. dynamischem Blinklicht Heck\n",
      "\t 8N6 Licht-/Regensensor\n",
      "\t 8Q3 Leuchtweitenregulierung\n",
      "\t 8SP LED-Heckleuchten mit dynamischem Blinker\n",
      "\t 8WM Abbiege und Allwetterlicht\n",
      "WPD Premium package for USA\n",
      "\t I8S Radio High Scale (Gen2)\n",
      "\t QQ4 Lichtpaket\n",
      "\t UI2 Audi smartphone interface\n",
      "\t 4I3 Komfortschlüssel\n",
      "\t 7UH Connectivity-Paket\n",
      "WPS Premium Plus für USA\n",
      "\t C2R Aluminium Gussräder im 5-Doppelspeichen- Design, kontrastgrau, teilpoliert 8J x 18, Reifen 225/40 R18\n",
      "\t I8S Radio High Scale (Gen2)\n",
      "\t QQ4 Lichtpaket\n",
      "\t UI2 Audi smartphone interface\n",
      "\t VT5 Einstiegsleisten mit Aluminiumeinlage\n",
      "\t 0NB S-Line Schriftzug, aussen\n",
      "\t 2JD Stoßfänger\n",
      "\t 3L5 Vordersitze elektrisch einstellbar\n",
      "\t 4I3 Komfortschlüssel\n",
      "\t 4L7 Innenspiegel automatisch abblendend mit Licht-/Regensensor und digitaler Kompassanzeige\n",
      "\t 4ZB Glanzpaket\n",
      "\t 5TD Dekoreinlagen Aluminium Mistral\n",
      "\t 7P1 4-Wege-Lendenwirbelstütze für die Vordersitze\n",
      "\t 7UH Connectivity-Paket\n",
      "\t 7X2 Einparkhilfe plus mit selektiver Anzeige\n",
      "\t 7Y1 Audi side assist\n",
      "WPT Prestige für USA\n",
      "\t C2R Aluminium Gussräder im 5-Doppelspeichen- Design, kontrastgrau, teilpoliert 8J x 18, Reifen 225/40 R18\n",
      "\t EL3 Audi connect\n",
      "\t I8L Radio Premium (Gen2)\n",
      "\t QE5 Ablage-/ Gepäckraumpaket mit erweitertem 12 V- und USB- Buchsen - Angebot\n",
      "\t QQ4 Lichtpaket\n",
      "\t UI2 Audi smartphone interface\n",
      "\t VT5 Einstiegsleisten mit Aluminiumeinlage\n",
      "\t 0NB S-Line Schriftzug, aussen\n",
      "\t 2JD Stoßfänger\n",
      "\t 3L5 Vordersitze elektrisch einstellbar\n",
      "\t 4I3 Komfortschlüssel\n",
      "\t 4L7 Innenspiegel automatisch abblendend mit Licht-/Regensensor und digitaler Kompassanzeige\n",
      "\t 4ZB Glanzpaket\n",
      "\t 5TD Dekoreinlagen Aluminium Mistral\n",
      "\t 6K4 adaptive cruise control (Stop&Go) inkl. pre sense front\n",
      "\t 6XK Außenspiegel el. einstell-,beheiz- u. anklappbar, beidseitig autom. abblendend inkl. Bordsteinautom. f. Beifahrerseite\n",
      "\t 7P1 4-Wege-Lendenwirbelstütze für die Vordersitze\n",
      "\t 7UG MMI Navigation plus mit MMI touch\n",
      "\t 7X2 Einparkhilfe plus mit selektiver Anzeige\n",
      "\t 7Y5 Audi active lane assist und Audi side assist\n",
      "\t 8G1 Fernlichtassistent\n",
      "\t 8IT LED-Scheinwerfer inkl. dynamischem Blinklicht Heck\n",
      "\t 8Q3 Leuchtweitenregulierung\n",
      "\t 8SP LED-Heckleuchten mit dynamischem Blinker\n",
      "\t 8T3 Automatische Distanzregelung\n",
      "\t 8WM Abbiege und Allwetterlicht\n",
      "\t 9S8 Audi virtual cockpit\n",
      "\t 9VS Bang & Olufsen Sound System\n",
      "WQB S line Sportpaket USA\n",
      "\t Q4H Sportsitze vorn\n",
      "\t 2H6 Audi drive select\n",
      "\t 2PK Sportkontur-Lederlenkrad im 3-Speichen-Design mit Multifunktion plus und Schaltwippen unten abgeflacht\n",
      "WQN S line style\n",
      "\t C8X Leichtmetallräder 8J x 19\n",
      "\t E3T \"Life\"\n",
      "\t 0UH Besondere Farbausstattung\n"
     ]
    }
   ],
   "source": [
    "model = '8VMB8L'\n",
    "pkg_col = xl.data.packages.columns[xl.data.map.Packages.ColumnIdx.package]\n",
    "pkg_text_col = xl.data.packages.columns[xl.data.map.Packages.ColumnIdx.package_text]\n",
    "pr_col = xl.data.packages.columns[xl.data.map.Packages.ColumnIdx.pr]\n",
    "pr_text_col = xl.data.packages.columns[xl.data.map.Packages.ColumnIdx.pr_text]\n",
    "pkg_rows = xl.data.packages.loc[~xl.data.packages[model].isin(['-'])]\n",
    "\n",
    "for idx, (pkg, pkg_text) in enumerate(zip(pkg_rows[pkg_col].unique(), pkg_rows[pkg_text_col].unique())):\n",
    "    print(pkg, pkg_text)\n",
    "    pkg_content = pkg_rows.loc[pkg_rows[pkg_col] == pkg]\n",
    "\n",
    "    for pr_idx, (pr, pr_text) in enumerate(zip(pkg_content[pr_col], pkg_content[pr_text_col])):\n",
    "        print('\\t', pr, pr_text)"
   ]
  },
  {
   "cell_type": "code",
   "execution_count": null,
   "metadata": {},
   "outputs": [],
   "source": []
  }
 ],
 "metadata": {
  "kernelspec": {
   "display_name": "Python 3",
   "language": "python",
   "name": "python3"
  },
  "language_info": {
   "codemirror_mode": {
    "name": "ipython",
    "version": 3
   },
   "file_extension": ".py",
   "mimetype": "text/x-python",
   "name": "python",
   "nbconvert_exporter": "python",
   "pygments_lexer": "ipython3",
   "version": "3.7.1"
  }
 },
 "nbformat": 4,
 "nbformat_minor": 2
}
