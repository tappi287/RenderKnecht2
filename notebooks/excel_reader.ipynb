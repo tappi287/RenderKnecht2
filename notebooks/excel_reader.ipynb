{
 "cells": [
  {
   "cell_type": "code",
   "execution_count": 1,
   "metadata": {},
   "outputs": [
    {
     "name": "stdout",
     "output_type": "stream",
     "text": [
      "Free Image Libary: E:/nextcloud/RenderKnecht2/bin/freeimage-3.15.1-win64.dll\n",
      "Application language loaded from settings:  de\n",
      "KnechtSettings successfully loaded from file.\n",
      "Settings loaded from file.\n",
      "Logger requested by:  knecht_excel.py <module> WARNING\n"
     ]
    }
   ],
   "source": [
    "import sys\n",
    "from pathlib import Path\n",
    "# Add parent path to python path for relative module import\n",
    "sys.path.append(Path('.').absolute().parent.as_posix())\n",
    "from modules.knecht_excel import ExcelReader"
   ]
  },
  {
   "cell_type": "code",
   "execution_count": 2,
   "metadata": {},
   "outputs": [
    {
     "name": "stdout",
     "output_type": "stream",
     "text": [
      "True\n"
     ]
    }
   ],
   "source": [
    "# file = Path(r'I:\\Nextcloud\\py\\py_knecht\\RenderKnecht\\_TestDocs\\20171109_MBV_A3-Familie_AoA_MY2018.xlsx')\n",
    "file = Path(r'E:\\nextcloud\\py_knecht\\RenderKnecht\\_TestDocs\\20171109_MBV_A3-Familie_AoA_MY2018.xlsx')\n",
    "xl = ExcelReader()\n",
    "result = xl.read_file(file)\n",
    "print(result)"
   ]
  },
  {
   "cell_type": "code",
   "execution_count": 3,
   "metadata": {},
   "outputs": [
    {
     "data": {
      "text/html": [
       "<div>\n",
       "<style scoped>\n",
       "    .dataframe tbody tr th:only-of-type {\n",
       "        vertical-align: middle;\n",
       "    }\n",
       "\n",
       "    .dataframe tbody tr th {\n",
       "        vertical-align: top;\n",
       "    }\n",
       "\n",
       "    .dataframe thead th {\n",
       "        text-align: right;\n",
       "    }\n",
       "</style>\n",
       "<table border=\"1\" class=\"dataframe\">\n",
       "  <thead>\n",
       "    <tr style=\"text-align: right;\">\n",
       "      <th></th>\n",
       "      <th>Markt</th>\n",
       "      <th>Markttext</th>\n",
       "      <th>Modelljahr</th>\n",
       "      <th>Klasse</th>\n",
       "      <th>Klassentext</th>\n",
       "      <th>Derivat</th>\n",
       "      <th>Modell</th>\n",
       "      <th>Version</th>\n",
       "      <th>Status</th>\n",
       "      <th>Modelltext</th>\n",
       "      <th>Einsatz</th>\n",
       "      <th>Entfall</th>\n",
       "      <th>Hubraum</th>\n",
       "      <th>Leistung</th>\n",
       "      <th>Getriebe</th>\n",
       "    </tr>\n",
       "  </thead>\n",
       "  <tbody>\n",
       "    <tr>\n",
       "      <th>0</th>\n",
       "      <td>X9A</td>\n",
       "      <td>USA</td>\n",
       "      <td>2018</td>\n",
       "      <td>8V</td>\n",
       "      <td>Audi A3 - AU370/0,AU370/1,AU371,AU375</td>\n",
       "      <td>A3 Limousine</td>\n",
       "      <td>8VMB8L</td>\n",
       "      <td>0</td>\n",
       "      <td>F</td>\n",
       "      <td>Audi A3 Limousine sport 2.0 TFSI quattro 162(2...</td>\n",
       "      <td>17.22.1</td>\n",
       "      <td>NaN</td>\n",
       "      <td>2.0 TFSI</td>\n",
       "      <td>162(220) kW(PS)</td>\n",
       "      <td>S tronic</td>\n",
       "    </tr>\n",
       "    <tr>\n",
       "      <th>1</th>\n",
       "      <td>X9A</td>\n",
       "      <td>USA</td>\n",
       "      <td>2018</td>\n",
       "      <td>8V</td>\n",
       "      <td>Audi A3 - AU370/0,AU370/1,AU371,AU375</td>\n",
       "      <td>RS 3</td>\n",
       "      <td>8VMRWY</td>\n",
       "      <td>0</td>\n",
       "      <td>F</td>\n",
       "      <td>Audi RS 3 Limousine 2.5 TFSI quattro 294(400) ...</td>\n",
       "      <td>17.22.1</td>\n",
       "      <td>NaN</td>\n",
       "      <td>2.5 TFSI</td>\n",
       "      <td>294(400) kW(PS)</td>\n",
       "      <td>S tronic</td>\n",
       "    </tr>\n",
       "    <tr>\n",
       "      <th>2</th>\n",
       "      <td>X9A</td>\n",
       "      <td>USA</td>\n",
       "      <td>2018</td>\n",
       "      <td>8V</td>\n",
       "      <td>Audi A3 - AU370/0,AU370/1,AU371,AU375</td>\n",
       "      <td>S3</td>\n",
       "      <td>8VMS1Y</td>\n",
       "      <td>0</td>\n",
       "      <td>F</td>\n",
       "      <td>Audi S3 Limousine 2.0 TFSI quattro 215(292) kW...</td>\n",
       "      <td>17.22.1</td>\n",
       "      <td>NaN</td>\n",
       "      <td>2.0 TFSI</td>\n",
       "      <td>215(292) kW(PS)</td>\n",
       "      <td>S tronic</td>\n",
       "    </tr>\n",
       "  </tbody>\n",
       "</table>\n",
       "</div>"
      ],
      "text/plain": [
       "  Markt Markttext  Modelljahr Klasse                            Klassentext  \\\n",
       "0   X9A       USA        2018     8V  Audi A3 - AU370/0,AU370/1,AU371,AU375   \n",
       "1   X9A       USA        2018     8V  Audi A3 - AU370/0,AU370/1,AU371,AU375   \n",
       "2   X9A       USA        2018     8V  Audi A3 - AU370/0,AU370/1,AU371,AU375   \n",
       "\n",
       "        Derivat  Modell  Version Status  \\\n",
       "0  A3 Limousine  8VMB8L        0      F   \n",
       "1          RS 3  8VMRWY        0      F   \n",
       "2            S3  8VMS1Y        0      F   \n",
       "\n",
       "                                          Modelltext  Einsatz  Entfall  \\\n",
       "0  Audi A3 Limousine sport 2.0 TFSI quattro 162(2...  17.22.1      NaN   \n",
       "1  Audi RS 3 Limousine 2.5 TFSI quattro 294(400) ...  17.22.1      NaN   \n",
       "2  Audi S3 Limousine 2.0 TFSI quattro 215(292) kW...  17.22.1      NaN   \n",
       "\n",
       "    Hubraum         Leistung  Getriebe  \n",
       "0  2.0 TFSI  162(220) kW(PS)  S tronic  \n",
       "1  2.5 TFSI  294(400) kW(PS)  S tronic  \n",
       "2  2.0 TFSI  215(292) kW(PS)  S tronic  "
      ]
     },
     "execution_count": 3,
     "metadata": {},
     "output_type": "execute_result"
    }
   ],
   "source": [
    "xl.data.models.head(10)"
   ]
  },
  {
   "cell_type": "code",
   "execution_count": 4,
   "metadata": {},
   "outputs": [
    {
     "name": "stdout",
     "output_type": "stream",
     "text": [
      "8VMB8L\n",
      "8VMRWY\n",
      "8VMS1Y\n"
     ]
    }
   ],
   "source": [
    "# Extract available models\n",
    "models = xl.data.models[xl.data.models.columns[6]]\n",
    "for model in models:\n",
    "    print(model)"
   ]
  },
  {
   "cell_type": "code",
   "execution_count": 5,
   "metadata": {},
   "outputs": [
    {
     "data": {
      "text/plain": [
       "[0, 6]"
      ]
     },
     "execution_count": 5,
     "metadata": {},
     "output_type": "execute_result"
    }
   ],
   "source": [
    "# Get Column locations by name\n",
    "[xl.data.models.columns.get_loc(c) for c in ['Markt', 'Modell'] if c in xl.data.models.columns]"
   ]
  },
  {
   "cell_type": "code",
   "execution_count": 6,
   "metadata": {},
   "outputs": [
    {
     "name": "stdout",
     "output_type": "stream",
     "text": [
      "Aktionsausführungen\n"
     ]
    }
   ],
   "source": [
    "# Get PR-Family + Description\n",
    "pr_family_column = xl.data.pr_options.columns[0]\n",
    "xl.data.pr_options[pr_family_column].unique()\n",
    "pr_row = xl.data.pr_options.loc[xl.data.pr_options[pr_family_column]=='AAU']\n",
    "desc = pr_row['PR-FamilienText'].unique()[0]\n",
    "print(desc)"
   ]
  },
  {
   "cell_type": "code",
   "execution_count": 7,
   "metadata": {},
   "outputs": [
    {
     "data": {
      "text/plain": [
       "[('8VMB8L',\n",
       "  'X9A',\n",
       "  'Audi A3 Limousine sport 2.0 TFSI quattro 162(220) kW(PS) S tronic',\n",
       "  'S tronic'),\n",
       " ('8VMRWY',\n",
       "  'X9A',\n",
       "  'Audi RS 3 Limousine 2.5 TFSI quattro 294(400) kW(PS) S tronic',\n",
       "  'S tronic'),\n",
       " ('8VMS1Y',\n",
       "  'X9A',\n",
       "  'Audi S3 Limousine 2.0 TFSI quattro 215(292) kW(PS) S tronic',\n",
       "  'S tronic')]"
      ]
     },
     "execution_count": 7,
     "metadata": {},
     "output_type": "execute_result"
    }
   ],
   "source": [
    "xl.data.get_models()"
   ]
  },
  {
   "cell_type": "code",
   "execution_count": 8,
   "metadata": {},
   "outputs": [
    {
     "data": {
      "text/plain": [
       "[('AAU', 'Aktionsausführungen'),\n",
       " ('ABR', 'Abschließbare Radschrauben'),\n",
       " ('AED', 'Fahrzeugklassendifferenzierung Aggregate / Plattformteile'),\n",
       " ('AER', 'Abgasendrohr'),\n",
       " ('AGM', 'Abgaskonzept'),\n",
       " ('AHV', 'Anhängevorrichtung'),\n",
       " ('AIB', 'Airbag'),\n",
       " ('AKB', 'Aktivkohlebehälter / Ottopartikelfilter'),\n",
       " ('ALG', 'Ablagenpaket'),\n",
       " ('ASE', 'Außenspiegel-Einstellung'),\n",
       " ('ASG', 'Anschlussgarantie'),\n",
       " ('ASL', 'Außenspiegel links'),\n",
       " ('ASM', 'Außen-Sound-Maßnahmen'),\n",
       " ('ASR', 'Außenspiegel rechts'),\n",
       " ('ASY', 'Alternativ-Antriebssystem'),\n",
       " ('ATA', 'Antriebsart'),\n",
       " ('AUS', 'Ausstattungsstufen'),\n",
       " ('AWV', 'Anhaltewegverkürzung'),\n",
       " ('BAH', 'Bremsenausführung hinten'),\n",
       " ('BAT', 'Batterien'),\n",
       " ('BAV', 'Bremsenausführung vorn'),\n",
       " ('BBO', 'Bauteile mit besonderer Oberfläche'),\n",
       " ('BFA', 'Besondere Farbausstattung'),\n",
       " ('BGK', 'Batterien/Generatoren Kapazitäten'),\n",
       " ('BLB', 'Bauteilesatz länderspezifischer Bauvor- schriften'),\n",
       " ('BOW', 'Bordwerkzeug und Wagenheber'),\n",
       " ('BRS', 'Bremssysteme'),\n",
       " ('BTA', 'Betriebsanleitungen'),\n",
       " ('BVK', 'Bremsbelagverschleißkontrolle'),\n",
       " ('BWD', 'Beheizbare Scheibenwaschdüsen'),\n",
       " ('CHA', 'Charisma'),\n",
       " ('CHR', 'Chrom-Paket'),\n",
       " ('COC', 'ABE-Nachträge'),\n",
       " ('COZ', 'CO2 Variante'),\n",
       " ('CPA', 'Connect Paket 1'),\n",
       " ('DAR', 'Dachreling / Dachlastträger'),\n",
       " ('DEI', 'Dacheinsatz/Verdeck'),\n",
       " ('DFH', 'Dämpfung Fahrwerk hinten'),\n",
       " ('DFO', 'Dekorfolien/Embleme'),\n",
       " ('DFV', 'Dämpfung Fahrwerk vorn'),\n",
       " ('DLS', 'Skisack'),\n",
       " ('ECO', 'ECO-Funktion für Fahrprofile und Drive select'),\n",
       " ('EDF', 'Einbau Differenzierung Fahrzeugteile'),\n",
       " ('EDW', 'System-Diebstahlschutz'),\n",
       " ('EIH', 'Einlagen'),\n",
       " ('EIL', 'Einstiegleisten'),\n",
       " ('EPH', 'Einparkhilfe'),\n",
       " ('ESI', 'Erweitertem Sicherheitssystem'),\n",
       " ('ESS', 'Elektrische Schnittstelle für externe Nutzung'),\n",
       " ('FAD', 'Fertigungsablauf-Differenzierung'),\n",
       " ('FEH', 'Fensterheber'),\n",
       " ('FEU', 'Feuerlöscher'),\n",
       " ('FGS', 'Fußgängerschutz'),\n",
       " ('FHW', 'Fußhebelwerk'),\n",
       " ('FLS', 'Fahrlichtschaltung'),\n",
       " ('FSB', 'Feststellbremse'),\n",
       " ('FSP', 'Frontspoiler'),\n",
       " ('FVS', 'Fahrzeug Verfolgungs-System'),\n",
       " ('FZS', 'Fahrzeugspezifikationen'),\n",
       " ('GEN', 'Generatoren'),\n",
       " ('GKH', 'Gewichtsklasse Hinterachse'),\n",
       " ('GKV', 'Gewichtsklasse Vorderachse'),\n",
       " ('GMO', 'Grundmotor'),\n",
       " ('GRA', 'Geschwindigkeitsregelanlage'),\n",
       " ('GRV', 'Gepäckraumauskleidung'),\n",
       " ('GSP', 'Getriebe-Spezifikationen'),\n",
       " ('GWA', 'Geschwindigkeitswarn- /Begrenzungsanlage'),\n",
       " ('HEB', 'Heckblende'),\n",
       " ('HER', 'Hersteller'),\n",
       " ('HES', 'Heckspoiler'),\n",
       " ('HEW', 'Heckscheiben Wischwaschanlage'),\n",
       " ('HIA', 'Hinterachse'),\n",
       " ('HIM', 'Formteilhimmel'),\n",
       " ('HIS', 'Hintersitze'),\n",
       " ('HKA', 'Heizung-Klimaanlage'),\n",
       " ('HSW', 'Hauptscheinwerfer'),\n",
       " ('HYB', 'Hybridantrieb'),\n",
       " ('IND', 'Individualeinbau'),\n",
       " ('INS', 'Instrumenteneinsätze'),\n",
       " ('IRS', 'Sicherheitsinnenspiegel'),\n",
       " ('KAR', 'Karosserieformen'),\n",
       " ('KAS', 'Kamera/Distanzsensor'),\n",
       " ('KBB', 'Gepäckraumbodenbelag'),\n",
       " ('KBX', 'Kühlbox'),\n",
       " ('KDS', 'Kindersicherung'),\n",
       " ('KLT', 'Klapptisch'),\n",
       " ('KLZ', 'Klimazonen'),\n",
       " ('KOH', 'Kopfstützen hinten'),\n",
       " ('KOM', 'Kompensor'),\n",
       " ('KOV', 'Kopfstützen'),\n",
       " ('KRM', 'Kraftstoffeinfüllmenge'),\n",
       " ('KRS', 'Kraftstoffsysteme'),\n",
       " ('KSA', 'Karosseriemaßnahmen'),\n",
       " ('KSI', 'Kindersitzverankerung vorn'),\n",
       " ('KSU', 'Kamerasysteme/Umfeldsensorik'),\n",
       " ('KUH', 'Kältemittel'),\n",
       " ('KZV', 'Kennzeichenträger vorn'),\n",
       " ('LAC', 'Lackkonservierung / Transportschutz'),\n",
       " ('LCP', 'Lichtpaket (Beleuchtungen)'),\n",
       " ('LDD', 'Lade-Dock'),\n",
       " ('LDO', 'Ladedosen'),\n",
       " ('LEA', 'Lenkungsanordnung'),\n",
       " ('LEN', 'Lenkung'),\n",
       " ('LER', 'Lehnenentriegelung'),\n",
       " ('LIA', 'Lichtassistenzsysteme'),\n",
       " ('LKA', 'Ladekabel'),\n",
       " ('LKB', 'Ladekabel mit Industriestecker'),\n",
       " ('LKL', 'Ladekabellänge'),\n",
       " ('LOR', 'Lendenwirbelstützen in Lehnen'),\n",
       " ('LRA', 'Lenkräder'),\n",
       " ('LRV', 'Links/Rechtsverkehr'),\n",
       " ('LSE', 'Lautsprechereinbau'),\n",
       " ('LUM', 'Lederumfang'),\n",
       " ('LWR', 'Leuchtweitenregulierung'),\n",
       " ('MAD', 'Motorabdeckung'),\n",
       " ('MAS', 'Mittelarmstütze'),\n",
       " ('MDS', 'Varianten'),\n",
       " ('MFA', 'Multifunktionsanzeige / Bordcomputer'),\n",
       " ('MKU', 'Motorkühlung'),\n",
       " ('MOA', 'Motorart'),\n",
       " ('MOT', 'Motor-Spezifikationen'),\n",
       " ('NAC', 'Nackengebläse'),\n",
       " ('NAV', 'Navigationsgerät'),\n",
       " ('NEL', 'Nebelschlussleuchte'),\n",
       " ('NES', 'Nebelscheinwerfer / Zusatzscheinwerfer'),\n",
       " ('NNN', 'N.N.N.'),\n",
       " ('ONL', 'Online Dienste'),\n",
       " ('PAM', 'Produktaufwertungsmaßnahmen'),\n",
       " ('PBH', 'Plattformmodul Boden hinten'),\n",
       " ('QGM', 'Audi Sport GmbH'),\n",
       " ('QUA', 'Qualitätsklasse'),\n",
       " ('RAD', 'Räder'),\n",
       " ('RAO', 'Radios'),\n",
       " ('RAU', 'Raucher- / Nichtraucher-Ausfuehrung'),\n",
       " ('RCO', 'Regionscode für Radio'),\n",
       " ('RDK', 'Reifendruckkontrolle'),\n",
       " ('REI', 'Reifen'),\n",
       " ('REL', 'Reifenlieferanten'),\n",
       " ('RER', 'Reserverad/Pannenset'),\n",
       " ('RST', 'Radstände'),\n",
       " ('RUF', 'Ruffunktion'),\n",
       " ('SAB', 'Seitenairbag'),\n",
       " ('SAG', 'Schalthebelknopf / -griff'),\n",
       " ('SAH', 'Selbstabholer/Sondersteuerung'),\n",
       " ('SAU', 'Spezielle Aufkleber / Schilder'),\n",
       " ('SBR', 'SBBR-Leuchten'),\n",
       " ('SEA', 'Serviceanzeige'),\n",
       " ('SGK', 'Sicherheitsgurt-Kontrolle'),\n",
       " ('SIB', 'Sitzbezüge'),\n",
       " ('SIE', 'Sitzeinstellung'),\n",
       " ('SIH', 'Sitzheizung'),\n",
       " ('SIZ', 'Sicherheitszertifikate'),\n",
       " ('SNA', 'Start/Stopp-Anlage/Rekuperation'),\n",
       " ('SNH', 'Signalhörner'),\n",
       " ('SNR', 'Steuerungsnummer (keine PR-Familie)'),\n",
       " ('SPU', 'Spurwechsel/Spurhalteassistent'),\n",
       " ('SSH', 'Scheiben seitlich und hinten'),\n",
       " ('STF', 'Stoßfänger'),\n",
       " ('STH', 'Stabilisator hinten'),\n",
       " ('STV', 'Stabilisator vorn'),\n",
       " ('SVO', 'Abwicklung Serie / Vorserie'),\n",
       " ('SWP', 'Schlechtwege-/Sportausführung'),\n",
       " ('SWR', 'Scheinwerferreinigungsanlage'),\n",
       " ('SWS', 'Scheibenwischerintervallschaltung / Licht / Regensensor'),\n",
       " ('SZU', 'Schriftzugsatz'),\n",
       " ('TKV', 'Tür- und Klappenverriegelung'),\n",
       " ('TPL', 'Typprüfländer / Länder mit besonderen Anforderungen'),\n",
       " ('TRF', 'Trägerfrequenz für Funkbedienung'),\n",
       " ('TRW', 'Trennwand'),\n",
       " ('TSP', 'Transportschutz'),\n",
       " ('TUE', 'Türen'),\n",
       " ('TVE', 'TV-Empfang / Digitaler Radioempfang'),\n",
       " ('TWU', 'Triebwerks-Unterschutz'),\n",
       " ('TYP', 'Typschilder'),\n",
       " ('TYZ', 'Typzeichen'),\n",
       " ('VBK', 'Verbandkasten / Warndreieck'),\n",
       " ('VOS', 'Vordersitze'),\n",
       " ('VRH', 'Verriegelung Hintersitz'),\n",
       " ('VTV', 'Telefon / Telematik'),\n",
       " ('WAL', 'Zusätzliche Warnleuchten'),\n",
       " ('WAR', 'Wartungsvertrag'),\n",
       " ('WIN', 'Windschott'),\n",
       " ('WIV', 'Wartungsintervallverlängerung'),\n",
       " ('WSA', 'Wärmespeicheranlage / Zusatzheizung'),\n",
       " ('WSS', 'Windschutzscheibe'),\n",
       " ('WWA', 'Waschwasserstandanzeige'),\n",
       " ('ZBR', 'Zusätzliche Bereifung (Winterreifen)'),\n",
       " ('ZFM', 'Fußmatten'),\n",
       " ('ZIE', 'Zierleisten'),\n",
       " ('ZKV', 'Zusätzliche Kindersitzverankerung'),\n",
       " ('ZUH', 'Zusatzheizung')]"
      ]
     },
     "execution_count": 8,
     "metadata": {},
     "output_type": "execute_result"
    }
   ],
   "source": [
    "xl.data.get_pr_families()"
   ]
  },
  {
   "cell_type": "code",
   "execution_count": null,
   "metadata": {},
   "outputs": [],
   "source": []
  }
 ],
 "metadata": {
  "kernelspec": {
   "display_name": "Python 3",
   "language": "python",
   "name": "python3"
  },
  "language_info": {
   "codemirror_mode": {
    "name": "ipython",
    "version": 3
   },
   "file_extension": ".py",
   "mimetype": "text/x-python",
   "name": "python",
   "nbconvert_exporter": "python",
   "pygments_lexer": "ipython3",
   "version": "3.7.1"
  }
 },
 "nbformat": 4,
 "nbformat_minor": 2
}
