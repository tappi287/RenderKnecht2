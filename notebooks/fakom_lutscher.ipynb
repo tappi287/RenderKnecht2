{
 "cells": [
  {
   "cell_type": "code",
   "execution_count": null,
   "metadata": {},
   "outputs": [],
   "source": [
    "from pathlib import Path\n",
    "import re\n",
    "from lxml import etree as Et\n",
    "\n",
    "xml_file = Path(r'I:\\Nextcloud\\py\\py_knecht\\RenderKnecht\\_TestDocs\\fakom_lutscher\\20170329_AU536_Q7NF_MJW2217_.pos')"
   ]
  },
  {
   "cell_type": "code",
   "execution_count": null,
   "metadata": {},
   "outputs": [],
   "source": [
    "class FakomPattern:\n",
    "    # FaKom pattern list\n",
    "    pattern = list()\n",
    "\n",
    "    # FaKom Pattern as tuple\n",
    "    # (RegEx, Seat-Code-Index-Start, Seat-Code-Index-End, Color-index-start, Color-index-end)\n",
    "    # (str, int, int, int[optional], int[optional])\n",
    "\n",
    "    # FA_SIB_on\n",
    "    pattern.append(('^.._..._on$', 0, 2, 3, 6))\n",
    "\n",
    "    # FA_SIB_LUM_on\n",
    "    pattern.append(('^.._..._..._on$', 0, 2, 3, 6))\n",
    "\n",
    "    # FA_on_SIB_on\n",
    "    pattern.append(('^.._.._..._..$', 0, 2, -6, -3))\n",
    "\n",
    "    # FA_on_LUM_on_SIB_on\n",
    "    pattern.append(('^.._on_..._on_..._on$', 0, 2, -6, -3))\n",
    "\n",
    "    # LUM_on_FA_on_SIB_on\n",
    "    pattern.append(('^..._on_.._on_..._on$', -6, -3, -12, -10))\n",
    "\n",
    "    # FA_SIB\n",
    "    pattern.append(('^.._...$', 0, 2, 3, 6))\n",
    "\n",
    "    # FA_SIB_XXX\n",
    "    pattern.append(('^.._..._...$', 0, 2, 3, 6))\n",
    "\n",
    "    # LUM_FA_SIB_on\n",
    "    pattern.append(('^..._.._..._on$', -6, -3, -9, -7))\n",
    "    \n",
    "    @classmethod\n",
    "    def next(cls):\n",
    "        for reg_ex, position in cls.pattern:\n",
    "            yield reg_ex, position\n",
    "            \n",
    "    @staticmethod\n",
    "    def search(pattern, action_list_name):\n",
    "        \"\"\" Returns (Color_Code:str, Seat_Code:str) or None \"\"\"\n",
    "        reg_ex_pattern, (fa_start, fa_end, sib_start, sib_end) = pattern\n",
    "        \n",
    "        # RegEx search\n",
    "        result = re.search(reg_ex_pattern, action_list_name, flags=re.IGNORECASE)\n",
    "\n",
    "        if result:\n",
    "            # Extract Colortrim PR\n",
    "            color_key = result.string[fa_start:fa_end]\n",
    "\n",
    "            # Extract Seat PR\n",
    "            sib_key = result.string[sib_start:sib_end]\n",
    "            \n",
    "            return color_key, sib_key"
   ]
  }
 ],
 "metadata": {
  "kernelspec": {
   "display_name": "Python 3",
   "language": "python",
   "name": "python3"
  },
  "language_info": {
   "codemirror_mode": {
    "name": "ipython",
    "version": 3
   },
   "file_extension": ".py",
   "mimetype": "text/x-python",
   "name": "python",
   "nbconvert_exporter": "python",
   "pygments_lexer": "ipython3",
   "version": "3.7.1"
  }
 },
 "nbformat": 4,
 "nbformat_minor": 2
}
